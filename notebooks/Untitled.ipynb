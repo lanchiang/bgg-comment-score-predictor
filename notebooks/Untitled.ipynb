{
 "cells": [
  {
   "cell_type": "code",
   "execution_count": 10,
   "id": "bb7d155f-dd9e-44bb-af69-1a17e94151f8",
   "metadata": {},
   "outputs": [
    {
     "name": "stderr",
     "output_type": "stream",
     "text": [
      "Some weights of BertForSequenceClassification were not initialized from the model checkpoint at bert-base-german-cased and are newly initialized: ['classifier.bias', 'classifier.weight']\n",
      "You should probably TRAIN this model on a down-stream task to be able to use it for predictions and inference.\n"
     ]
    },
    {
     "name": "stdout",
     "output_type": "stream",
     "text": [
      "{'input_ids': tensor([[    3,  6342,    43,  4299,    32, 26946, 26972,     4,    32, 26946,\n",
      "          4299,    18,  4153, 26904,  1133,  2151, 26951, 26914,     4]]), 'token_type_ids': tensor([[0, 0, 0, 0, 0, 0, 0, 0, 1, 1, 1, 1, 1, 1, 1, 1, 1, 1, 1]]), 'attention_mask': tensor([[1, 1, 1, 1, 1, 1, 1, 1, 1, 1, 1, 1, 1, 1, 1, 1, 1, 1, 1]])}\n"
     ]
    }
   ],
   "source": [
    "from transformers import AutoTokenizer, AutoModelForSequenceClassification\n",
    "\n",
    "model_name = \"bert-base-german-cased\"\n",
    "tokenizer = AutoTokenizer.from_pretrained(model_name)\n",
    "model = AutoModelForSequenceClassification.from_pretrained(model_name, num_labels=2)\n",
    "\n",
    "sentence1 = \"What is AI?\"\n",
    "sentence2 = \"AI is a field of study.\"\n",
    "inputs = tokenizer(sentence1, sentence2, padding=True, truncation=True, return_tensors=\"pt\")\n",
    "\n",
    "print(inputs)"
   ]
  },
  {
   "cell_type": "code",
   "execution_count": 30,
   "id": "cbe75c74-cd37-4704-9482-efeee8ed5b1e",
   "metadata": {},
   "outputs": [],
   "source": [
    "import torch\n",
    "import torch.nn.functional as F\n",
    "\n",
    "def predict_similarity(text1, text2):\n",
    "    inputs = tokenizer(text1, text2, return_tensors=\"pt\", truncation=True, padding=True)\n",
    "    with torch.no_grad():\n",
    "        logits = model(**inputs).logits.squeeze()\n",
    "\n",
    "    # Apply sigmoid to get a probability score\n",
    "    # similarity_score = torch.softmax(logits).squeeze()\n",
    "    similarity_score = F.softmax(logits, dim=0)\n",
    "    \n",
    "    return similarity_score"
   ]
  },
  {
   "cell_type": "code",
   "execution_count": 33,
   "id": "0ef00bea-f423-42ed-addb-b648e65e1649",
   "metadata": {},
   "outputs": [
    {
     "name": "stdout",
     "output_type": "stream",
     "text": [
      "Similarity Score: tensor([0.5702, 0.4298])\n",
      "CPU times: user 2.71 s, sys: 41.5 ms, total: 2.75 s\n",
      "Wall time: 903 ms\n"
     ]
    }
   ],
   "source": [
    "%%time\n",
    "\n",
    "text1 = 'Dekubitus wurde behandelt'\n",
    "text2 = 'Dekubitusbehandlung'\n",
    "\n",
    "# text1 = 'Abendbrot gegessen'\n",
    "# text2 = 'Nahrungsaufnahme'\n",
    "\n",
    "# Example\n",
    "for _ in range(20):\n",
    "    similarity_score = predict_similarity(text1, text2)\n",
    "print(f\"Similarity Score: {similarity_score}\")"
   ]
  },
  {
   "cell_type": "code",
   "execution_count": null,
   "id": "493d581f-a972-461b-a353-dcf2c05604b4",
   "metadata": {},
   "outputs": [],
   "source": []
  }
 ],
 "metadata": {
  "kernelspec": {
   "display_name": "voize",
   "language": "python",
   "name": "voize"
  },
  "language_info": {
   "codemirror_mode": {
    "name": "ipython",
    "version": 3
   },
   "file_extension": ".py",
   "mimetype": "text/x-python",
   "name": "python",
   "nbconvert_exporter": "python",
   "pygments_lexer": "ipython3",
   "version": "3.12.9"
  }
 },
 "nbformat": 4,
 "nbformat_minor": 5
}
